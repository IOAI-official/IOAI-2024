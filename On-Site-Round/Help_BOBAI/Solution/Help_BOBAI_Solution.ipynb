{
 "cells": [
  {
   "cell_type": "markdown",
   "metadata": {},
   "source": [
    "<img src=\"./figs/IOAI-Logo.png\" alt=\"IOAI Logo\" width=\"200\" height=\"auto\">\n",
    "\n",
    "[IOAI 2024 (Burgas, Bulgaria), On-Site Round](https://ioai-official.org/bulgaria-2024)\n",
    "\n",
    "[![Open In Colab](https://colab.research.google.com/assets/colab-badge.svg)](https://colab.research.google.com/github/IOAI-official/IOAI-2024/blob/main/On-Site-Round/Help_BOBAI/Solutioin/Help_BOBAI_Solution.ipynb)"
   ]
  },
  {
   "cell_type": "markdown",
   "metadata": {
    "id": "bqAFpqJlnt77"
   },
   "source": [
    "# Help BOBAI: Reference Solution"
   ]
  },
  {
   "cell_type": "markdown",
   "metadata": {
    "id": "Ne5Qh1_L_I6G"
   },
   "source": [
    "## Training Dataset"
   ]
  },
  {
   "cell_type": "code",
   "execution_count": null,
   "metadata": {
    "id": "XFs3soFJCC9h"
   },
   "outputs": [],
   "source": [
    "import torch\n",
    "\n",
    "dataset = torch.load('../training_set/train-dev_dataset_with_labels.pt')\n",
    "\n",
    "inputs = dataset[:,:,:-1]\n",
    "labels = dataset[:, :, -1]\n"
   ]
  },
  {
   "cell_type": "code",
   "execution_count": null,
   "metadata": {
    "colab": {
     "base_uri": "https://localhost:8080/"
    },
    "id": "jXnxOy2-Nkif",
    "outputId": "7162c198-a3b9-46d7-ef17-f65d1705cd04"
   },
   "outputs": [],
   "source": [
    "inputs.shape"
   ]
  },
  {
   "cell_type": "code",
   "execution_count": null,
   "metadata": {
    "colab": {
     "base_uri": "https://localhost:8080/"
    },
    "id": "2PVazjPttXjT",
    "outputId": "6ad150b6-5532-4696-cee6-469b8b658934"
   },
   "outputs": [],
   "source": [
    "# prompt: count number of different labels and count occurence of each of them\n",
    "\n",
    "import torch\n",
    "\n",
    "unique_labels, counts = torch.unique(labels, return_counts=True)\n",
    "num_labels = unique_labels.numel()\n",
    "\n",
    "print(\"Number of different labels:\", num_labels)\n",
    "print(\"Count of each label:\")\n",
    "for label, count in zip(unique_labels, counts):\n",
    "    print(f\"Label {label}: {count}\")\n"
   ]
  },
  {
   "cell_type": "code",
   "execution_count": null,
   "metadata": {
    "id": "C746wgOiOLaY"
   },
   "outputs": [],
   "source": [
    "# prompt: split train test with inputs and labels\n",
    "\n",
    "from sklearn.model_selection import train_test_split\n",
    "\n",
    "train_inputs, test_inputs, train_labels, test_labels = train_test_split(\n",
    "    inputs, labels, test_size=0.2, random_state=42\n",
    ")"
   ]
  },
  {
   "cell_type": "markdown",
   "metadata": {
    "id": "cv9MBElmMs6G"
   },
   "source": [
    "# Solution\n",
    "\n",
    "Below you will find a very naive baseline solution: given an input vector, we use either randomly assign one of the new labels (5 and 6) with uniform probability over a 7-way classification, or we use the base classifier to make a prediction.\n",
    "\n",
    "You can replace the code below with your solution."
   ]
  },
  {
   "cell_type": "code",
   "execution_count": null,
   "metadata": {
    "id": "U89Mmp8hQbTO"
   },
   "outputs": [],
   "source": [
    "# prompt: get the ones with label bigger than 4 into another array and train a KNN on it\n",
    "\n",
    "# Get the indices of samples with labels greater than 4\n",
    "indices_greater_than_4 = (train_labels > 4).nonzero()\n",
    "\n",
    "# Extract the corresponding inputs and labels\n",
    "train_inputs_greater_than_4 = train_inputs[indices_greater_than_4[:, 0], indices_greater_than_4[:, 1]]\n",
    "train_labels_greater_than_4 = train_labels[indices_greater_than_4[:, 0], indices_greater_than_4[:, 1]] - 5  # Adjust labels to start from 0"
   ]
  },
  {
   "cell_type": "code",
   "execution_count": null,
   "metadata": {
    "colab": {
     "base_uri": "https://localhost:8080/"
    },
    "id": "TduiiM9ui2FV",
    "outputId": "01eb4b58-fca5-45d2-a9eb-f219514afd47"
   },
   "outputs": [],
   "source": [
    "train_inputs_greater_than_4.shape, train_inputs.shape"
   ]
  },
  {
   "cell_type": "code",
   "execution_count": null,
   "metadata": {
    "id": "cOWXEgkYiVLf"
   },
   "outputs": [],
   "source": [
    "# prompt: at first create new labels where labels lower than 5 are equal to 0 and labels equal to 5 are 1 and labels equal to 6 are 2\n",
    "# then built a KNN from new labels\n",
    "# and remember to use all these inputs and labels from train\n",
    "\n",
    "# Create new labels\n",
    "new_train_labels = torch.where(train_labels < 5, 0, torch.where(train_labels == 5, 1, 2))"
   ]
  },
  {
   "cell_type": "code",
   "execution_count": null,
   "metadata": {
    "colab": {
     "base_uri": "https://localhost:8080/",
     "height": 75
    },
    "id": "AJBHrGwykFiR",
    "outputId": "7068283e-5521-4d6e-edcb-721d15efe499"
   },
   "outputs": [],
   "source": [
    "# prompt: use standard scaler from sklearn to normalize train_input_reshape\n",
    "\n",
    "import torch\n",
    "from sklearn.model_selection import train_test_split\n",
    "from sklearn.neighbors import KNeighborsClassifier\n",
    "from sklearn.preprocessing import StandardScaler\n",
    "\n",
    "# Reshape the input data for KNN\n",
    "train_inputs_reshaped = train_inputs.reshape(train_inputs.shape[0] * train_inputs.shape[1], train_inputs.shape[2])\n",
    "new_train_labels_reshaped = new_train_labels.reshape(-1)\n",
    "\n",
    "# Normalize the reshaped input data\n",
    "#scaler = StandardScaler()\n",
    "#train_inputs_reshaped_normalized = scaler.fit_transform(train_inputs_reshaped)\n",
    "\n",
    "# Train a KNN classifier on the normalized new labels\n",
    "knn = KNeighborsClassifier(n_neighbors=3, weights='distance')  # Adjust n_neighbors as needed\n",
    "knn.fit(train_inputs_reshaped, new_train_labels_reshaped)"
   ]
  },
  {
   "cell_type": "code",
   "execution_count": null,
   "metadata": {
    "colab": {
     "base_uri": "https://localhost:8080/"
    },
    "id": "9VEANqI0jJbP",
    "outputId": "d09ae537-895f-44f2-d503-56a6a22847dd"
   },
   "outputs": [],
   "source": [
    "train_inputs_reshaped.shape, train_inputs_reshaped.shape"
   ]
  },
  {
   "cell_type": "code",
   "execution_count": null,
   "metadata": {
    "colab": {
     "base_uri": "https://localhost:8080/"
    },
    "id": "r33UlJrBlZsX",
    "outputId": "39fe9ef9-3ccf-4e9c-e115-a206c6dbed29"
   },
   "outputs": [],
   "source": [
    "train_inputs_reshaped = torch.tensor(train_inputs_reshaped, dtype=torch.float)\n",
    "train_inputs_reshaped = train_inputs_reshaped.unsqueeze(1)"
   ]
  },
  {
   "cell_type": "code",
   "execution_count": null,
   "metadata": {
    "colab": {
     "base_uri": "https://localhost:8080/"
    },
    "id": "KjzAUx4-lm0N",
    "outputId": "adb36d96-6caa-454b-eb69-0fece9f4022f"
   },
   "outputs": [],
   "source": [
    "train_inputs_reshaped.shape"
   ]
  },
  {
   "cell_type": "code",
   "execution_count": null,
   "metadata": {
    "id": "cafvT54icF0S"
   },
   "outputs": [],
   "source": [
    "import torch\n",
    "import random\n",
    "\n",
    "class SevenWayClassifier():\n",
    "  def __init__(self, ):\n",
    "    base_clf = torch.nn.Linear(in_features=768, out_features=5, bias=True)\n",
    "    base_clf.load_state_dict(torch.load(\"../training_set/base_classifier.pth\"))\n",
    "    self.base_clf = base_clf\n",
    "\n",
    "  def base_classification(self, input_vector):\n",
    "\n",
    "    with torch.no_grad():\n",
    "      logits = self.base_clf(input_vector)\n",
    "      preds = torch.softmax(logits, 1)\n",
    "      predicted_class = preds.argmax(dim=1).numpy()[0]\n",
    "\n",
    "    return predicted_class\n",
    "\n",
    "  def get_preds(self, input_vector):\n",
    "    with torch.no_grad():\n",
    "      logits = self.base_clf(input_vector)\n",
    "      preds = torch.softmax(logits, 1)\n",
    "    return preds\n",
    "\n",
    "  def __call__(self, input_vector):\n",
    "    new_train_labels_reshaped.shape, train_inputs_reshaped.shape\n",
    "    which = knn.predict(input_vector)[0]\n",
    "    if (which):\n",
    "      return which + 4\n",
    "    return self.base_classification(input_vector)\n",
    "\n",
    "clf = SevenWayClassifier()"
   ]
  },
  {
   "cell_type": "markdown",
   "metadata": {
    "id": "lZUf3V_8Re0b"
   },
   "source": [
    "## Inference and Evaluation"
   ]
  },
  {
   "cell_type": "code",
   "execution_count": null,
   "metadata": {
    "id": "TPXFo8pFRe0i"
   },
   "outputs": [],
   "source": [
    "from sklearn.metrics import f1_score\n",
    "\n",
    "def compute_f1(labels, predictions):\n",
    "  return f1_score(labels, predictions, average='macro')"
   ]
  },
  {
   "cell_type": "code",
   "execution_count": null,
   "metadata": {
    "id": "0ed-lh6ERe0h"
   },
   "outputs": [],
   "source": [
    "from tqdm import tqdm\n",
    "\n",
    "def inference(clf, input_vectors):\n",
    "  predictions = []\n",
    "  input_vectors = input_vectors.reshape(input_vectors.shape[0] * input_vectors.shape[1], input_vectors.shape[2])\n",
    "  input_vectors = torch.tensor(input_vectors, dtype=torch.float)\n",
    "  input_vectors = input_vectors.unsqueeze(1)\n",
    "  for sample in tqdm(input_vectors):\n",
    "    predictions.append(clf(sample))\n",
    "  return predictions"
   ]
  },
  {
   "cell_type": "code",
   "execution_count": null,
   "metadata": {
    "colab": {
     "base_uri": "https://localhost:8080/"
    },
    "id": "xnK8eTdRmKaS",
    "outputId": "96ecc004-9ff9-473b-f7f4-90e2aba4fc1a"
   },
   "outputs": [],
   "source": [
    "train_inputs.shape, train_inputs_reshaped.shape"
   ]
  },
  {
   "cell_type": "code",
   "execution_count": null,
   "metadata": {
    "colab": {
     "base_uri": "https://localhost:8080/"
    },
    "id": "2A47J-tgWdQI",
    "outputId": "0b5fffbb-2a0e-4c04-e172-afcdca812274"
   },
   "outputs": [],
   "source": [
    "predictions = inference(clf, test_inputs)\n",
    "\n",
    "f1 = compute_f1(predictions, test_labels)\n",
    "print('\\nNaive solution F1', f1)"
   ]
  },
  {
   "cell_type": "markdown",
   "metadata": {
    "id": "AixBMbqHHVOB"
   },
   "source": [
    "## Validation Dataset"
   ]
  },
  {
   "cell_type": "code",
   "execution_count": null,
   "metadata": {
    "colab": {
     "base_uri": "https://localhost:8080/"
    },
    "id": "oiznNPDfHW60",
    "outputId": "fc89c0f6-ee2e-4b6c-9679-595bdf6ba7d6"
   },
   "outputs": [],
   "source": [
    "# The leaderboard may or may not work... If it doesn't forgive us. We will try to get it running.\n",
    "\n",
    "import pandas as pd\n",
    "import numpy as np\n",
    "\n",
    "# 30% of the test data\n",
    "def submission_to_csv(pred: np.ndarray, output_fpath: str = \"submission.csv\"):\n",
    "    pred = np.array(pred).flatten()\n",
    "    data_size = pred.size\n",
    "    df = pd.DataFrame({\n",
    "        \"ID\": np.arange(data_size),\n",
    "        \"class\": pred\n",
    "    })\n",
    "\n",
    "    df.to_csv(output_fpath, index=False)\n",
    "\n",
    "eval_inputs = torch.load('./validation_set/eval_dataset.pt')\n",
    "\n",
    "eval_predictions = inference(clf, eval_inputs)\n",
    "\n",
    "submission_to_csv(eval_predictions)"
   ]
  },
  {
   "cell_type": "markdown",
   "metadata": {
    "id": "engFIUpCJb4D"
   },
   "source": [
    "## Test Dataset"
   ]
  },
  {
   "cell_type": "code",
   "execution_count": null,
   "metadata": {
    "colab": {
     "base_uri": "https://localhost:8080/"
    },
    "id": "-_htHBvBJf0v",
    "outputId": "96d837f1-0b70-4366-b791-b5c7be30dbdd"
   },
   "outputs": [],
   "source": [
    "# DO NOT CHANGE THIS CELL\n",
    "test_inputs = torch.load('./test_set/test_dataset.pt')\n",
    "\n",
    "split='test'\n",
    "\n",
    "test_predictions = inference(clf, test_inputs)\n",
    "\n",
    "with open('{}_predictions.txt'.format(\"Team Name\"), 'w') as outfile:\n",
    "  outfile.write('\\n'.join([str(p) for p in test_predictions]))"
   ]
  }
 ],
 "metadata": {
  "accelerator": "GPU",
  "colab": {
   "gpuType": "T4",
   "machine_shape": "hm",
   "provenance": []
  },
  "kernelspec": {
   "display_name": "Python 3 (ipykernel)",
   "language": "python",
   "name": "python3"
  },
  "language_info": {
   "codemirror_mode": {
    "name": "ipython",
    "version": 3
   },
   "file_extension": ".py",
   "mimetype": "text/x-python",
   "name": "python",
   "nbconvert_exporter": "python",
   "pygments_lexer": "ipython3",
   "version": "3.12.9"
  }
 },
 "nbformat": 4,
 "nbformat_minor": 4
}
