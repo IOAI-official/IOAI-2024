{
 "cells": [
  {
   "cell_type": "markdown",
   "metadata": {
    "id": "4b8eIP3OA4lG",
    "jp-MarkdownHeadingCollapsed": true
   },
   "source": [
    "<img src=\"./figs/IOAI-Logo.png\" alt=\"IOAI Logo\" width=\"200\" height=\"auto\">\n",
    "\n",
    "[IOAI 2024 (Burgas, Bulgaria), On-Site Round](https://ioai-official.org/bulgaria-2024)\n",
    "\n",
    "[![Open In Colab](https://colab.research.google.com/assets/colab-badge.svg)](https://colab.research.google.com/github/IOAI-official/IOAI-2024/blob/main/On-Site-Round/Lost_in_Hyperspace/Solutioin/Lost_in_Hyperspace_Solution.ipynb)"
   ]
  },
  {
   "cell_type": "markdown",
   "metadata": {},
   "source": [
    "# Lost in a Hyperspace: Baseline Solution"
   ]
  },
  {
   "cell_type": "code",
   "execution_count": null,
   "metadata": {
    "id": "FHg2wwvMjbtq"
   },
   "outputs": [],
   "source": [
    "import pandas as pd\n",
    "import numpy as np\n",
    "import matplotlib.pyplot as plt\n",
    "\n",
    "from sklearn.linear_model import LinearRegression\n",
    "from sklearn.metrics import mean_squared_error\n",
    "import matplotlib.pyplot as plt\n",
    "\n",
    "SCALING_WEIGHTS = [100/15, 100/8, 100/100]"
   ]
  },
  {
   "cell_type": "code",
   "execution_count": null,
   "metadata": {
    "colab": {
     "base_uri": "https://localhost:8080/"
    },
    "id": "aIALow7IoF1K",
    "outputId": "9682f7c4-7dad-420b-b67f-a09d8a37b80f"
   },
   "outputs": [],
   "source": [
    "data = pd.read_pickle('../training_set/ml_data_onsite_start.pickle')\n",
    "for key in data.keys():\n",
    "  print(key)"
   ]
  },
  {
   "cell_type": "code",
   "execution_count": null,
   "metadata": {
    "colab": {
     "base_uri": "https://localhost:8080/"
    },
    "id": "CAEURZQXpGq7",
    "outputId": "cdf80c6b-44a3-4b3b-b025-0d29d2421ae8"
   },
   "outputs": [],
   "source": [
    "for key in data['X'].keys():\n",
    "  print(key)"
   ]
  },
  {
   "cell_type": "code",
   "execution_count": null,
   "metadata": {
    "colab": {
     "base_uri": "https://localhost:8080/"
    },
    "id": "9H2JakugpJ6t",
    "outputId": "012b6dc3-46fe-4d53-81be-4902d2085d75"
   },
   "outputs": [],
   "source": [
    "for key in data['y'].keys():\n",
    "  print(key)"
   ]
  },
  {
   "cell_type": "code",
   "execution_count": null,
   "metadata": {
    "id": "yAxYNuBmpK0M"
   },
   "outputs": [],
   "source": [
    "X_train = data['X']['train']\n",
    "y_train = data['y']['train']\n",
    "\n",
    "X_val = data['X']['val']\n",
    "y_val = data['y']['val']\n",
    "\n",
    "X_test = data['X']['live_test']"
   ]
  },
  {
   "cell_type": "code",
   "execution_count": null,
   "metadata": {
    "colab": {
     "base_uri": "https://localhost:8080/"
    },
    "id": "wOnsz-hRpa5-",
    "outputId": "fcdded75-dbc5-40ff-bf70-6072e19f5dc4"
   },
   "outputs": [],
   "source": [
    "X_train.shape, y_train.shape, X_val.shape, y_val.shape, X_test.shape"
   ]
  },
  {
   "cell_type": "code",
   "execution_count": null,
   "metadata": {
    "id": "FF3vFKAipdD9"
   },
   "outputs": [],
   "source": [
    "def vis(arr):\n",
    "  plt.figure(figsize=(8, 8))\n",
    "\n",
    "  cnt = 1\n",
    "  for z in range(5):\n",
    "    for q in range(6):\n",
    "      plt.subplot(5, 6, cnt)\n",
    "      plt.imshow(arr[:, :, z, q], vmin=-40, vmax=40, cmap='hsv')\n",
    "      plt.grid()\n",
    "      plt.axis('off')\n",
    "      cnt += 1\n",
    "  plt.tight_layout()"
   ]
  },
  {
   "cell_type": "code",
   "execution_count": null,
   "metadata": {
    "colab": {
     "base_uri": "https://localhost:8080/",
     "height": 766
    },
    "id": "x2mmIfNZqJvh",
    "outputId": "d5ff8e4b-a9a5-4981-943c-759b0ebc7b7d"
   },
   "outputs": [],
   "source": [
    "vis(X_train[0])"
   ]
  },
  {
   "cell_type": "markdown",
   "metadata": {
    "id": "uqtuaDQnrMi-"
   },
   "source": [
    "## Functions for result evaluation / writing predictions\n",
    "\n",
    "Do not change it!"
   ]
  },
  {
   "cell_type": "code",
   "execution_count": null,
   "metadata": {
    "id": "tURADTwiqK8O"
   },
   "outputs": [],
   "source": [
    "def test_solution(X_train, y_train, X_val, y_val, feature_num=0):\n",
    "    assert X_train.shape[-1] <= 300, \"Too many features! Should be less than 300\"\n",
    "    assert X_val.shape[-1] <= 300, \"Too many features! Should be less than 300\"\n",
    "\n",
    "    model =  LinearRegression().fit(\n",
    "        X_train,\n",
    "        y_train[:, feature_num]\n",
    "    )\n",
    "    predictions = model.predict(X_val)\n",
    "    rmse = mean_squared_error(\n",
    "        predictions,\n",
    "        y_val[:, feature_num]\n",
    "    )**.5\n",
    "    normalized_rmse = rmse * SCALING_WEIGHTS[feature_num]\n",
    "    print(f\"Property #{feature_num}:    raw RMSE={rmse:.6f}\")\n",
    "    print(f\"Property #{feature_num}: scaled RMSE={normalized_rmse:.6f}\")\n",
    "    return round(normalized_rmse, 6)"
   ]
  },
  {
   "cell_type": "markdown",
   "metadata": {
    "id": "U1isIq9era53"
   },
   "source": [
    "## Let's try a baseline solution"
   ]
  },
  {
   "cell_type": "code",
   "execution_count": null,
   "metadata": {
    "id": "gxP4tDP2rXgQ"
   },
   "outputs": [],
   "source": [
    "def dummy_feature_extractor(X):\n",
    "    X_new = X.reshape((X.shape[0], -1)) # ravel\n",
    "    X_new = X_new[:, :300] # pick first 300 features\n",
    "    return X_new"
   ]
  },
  {
   "cell_type": "code",
   "execution_count": null,
   "metadata": {
    "colab": {
     "base_uri": "https://localhost:8080/"
    },
    "id": "Vkn37xwbrswY",
    "outputId": "4a196346-2f4a-47ce-df48-af2c71d43d3c"
   },
   "outputs": [],
   "source": [
    " dummy_feature_extractor(X_train).shape"
   ]
  },
  {
   "cell_type": "code",
   "execution_count": null,
   "metadata": {
    "colab": {
     "base_uri": "https://localhost:8080/"
    },
    "id": "72XghC9lSZR9",
    "outputId": "99a54d7f-11b2-40c3-e96e-6bf05cc97980"
   },
   "outputs": [],
   "source": [
    "%%time\n",
    "total_score = 0\n",
    "for feature_number in range(3):\n",
    "  total_score += test_solution(\n",
    "      dummy_feature_extractor(X_train),\n",
    "      y_train,\n",
    "      dummy_feature_extractor(X_val),\n",
    "      y_val,\n",
    "      feature_num=feature_number\n",
    "  )\n",
    "  print()\n",
    "total_score /= 3\n",
    "print('='*16)\n",
    "print(f\"Total score = {total_score:.6f}\")"
   ]
  },
  {
   "cell_type": "markdown",
   "metadata": {
    "id": "FdwcTRrhxDfy"
   },
   "source": [
    "# How to prepare the answer files"
   ]
  },
  {
   "cell_type": "code",
   "execution_count": null,
   "metadata": {
    "id": "45q5BbihsA6j"
   },
   "outputs": [],
   "source": [
    "def generate_predictions(X_train, y_train, X_test, feature_num=0):\n",
    "    assert X_train.shape[-1] <= 300\n",
    "    assert X_test.shape[-1] <= 300\n",
    "\n",
    "    model =  LinearRegression().fit(\n",
    "        X_train,\n",
    "        y_train[:, feature_num]\n",
    "    )\n",
    "    predictions = model.predict(X_test)\n",
    "    return predictions\n",
    "\n",
    "\n",
    "## Generate solutions and write to the file\n",
    "combined = {'ID': np.arange(X_test.shape[0])}\n",
    "\n",
    "for feature_number in range(3):\n",
    "    predictions = generate_predictions(\n",
    "        dummy_feature_extractor(X_train),\n",
    "        y_train,\n",
    "        dummy_feature_extractor(X_test),\n",
    "        feature_num=feature_number\n",
    "    )\n",
    "\n",
    "    combined[f'y{feature_number+1}'] = predictions\n",
    "\n",
    "pd.DataFrame(combined).to_csv('predictions.csv', index=False)"
   ]
  },
  {
   "cell_type": "code",
   "execution_count": null,
   "metadata": {
    "id": "W4TTqdR8ptan"
   },
   "outputs": [],
   "source": [
    "# load the test dataset\n",
    "loaded = pd.read_pickle(\"./test_set/ml_data_onsite_final_test.pickle\")\n",
    "X_test_final = loaded['X']['final_test']\n",
    "\n",
    "\n",
    "# make final predictions\n",
    "combined = {'ID': np.arange(X_test_final.shape[0])}\n",
    "\n",
    "for feature_number in range(3):\n",
    "    predictions = generate_predictions(\n",
    "        dummy_feature_extractor(X_train),\n",
    "        y_train,\n",
    "        dummy_feature_extractor(X_test_final),\n",
    "        feature_num=feature_number\n",
    "    )\n",
    "\n",
    "    combined[f'y{feature_number+1}'] = predictions\n",
    "\n",
    "pd.DataFrame(combined).to_csv('final_predictions.csv', index=False)"
   ]
  },
  {
   "cell_type": "markdown",
   "metadata": {
    "id": "GMC_uPBIWIyt"
   },
   "source": [
    "## Author Solution\n",
    "\n",
    "- Replicate the data 5 more times, swapping axes (number of permutations for three axes)\n",
    "\n",
    "- (Optionally) Delete duplicate columns\n",
    "\n",
    "- Use PCA, it helps\n",
    "\n",
    "- (Author's knowledge) One of the features is from the previous task, gives biggest improvement, so home-task knowledge definitely helps\n",
    "\n",
    "Most successful teams combined some replication(=augmentation), features from home task, and PCA. Validation set should be a good indicator whether particular feature is a good idea to add."
   ]
  },
  {
   "cell_type": "code",
   "execution_count": null,
   "metadata": {
    "id": "M6Z5NmwmE9-b"
   },
   "outputs": [],
   "source": [
    "def symmetrize_x(X_tr, y_tr):\n",
    "    xxx = [\n",
    "        X_tr,\n",
    "        X_tr.swapaxes(1, 2),\n",
    "        X_tr.swapaxes(1, 3),\n",
    "        X_tr.swapaxes(2, 3),\n",
    "        X_tr.swapaxes(1, 3).swapaxes(1, 2),\n",
    "        X_tr.swapaxes(1, 3).swapaxes(2, 3),\n",
    "    ]\n",
    "    return np.concatenate(xxx), np.vstack([y_tr]*6)"
   ]
  },
  {
   "cell_type": "code",
   "execution_count": null,
   "metadata": {
    "id": "D5C7IIOEWwXx"
   },
   "outputs": [],
   "source": [
    "def ravelize(X):\n",
    "    return X.reshape((X.shape[0], -1))"
   ]
  },
  {
   "cell_type": "code",
   "execution_count": null,
   "metadata": {
    "id": "4C0C5ZL9XtZ_"
   },
   "outputs": [],
   "source": [
    "def make_bg(X):\n",
    "    bgs = []\n",
    "    for _x in X:\n",
    "        bg = _x[:,:,:,3].ravel().min() - _x[:,:,:,2].ravel().max()\n",
    "        bgs.append(bg)\n",
    "    bgs = np.array(bgs)\n",
    "    return bgs[:, None]"
   ]
  },
  {
   "cell_type": "code",
   "execution_count": null,
   "metadata": {
    "id": "yUzm50TNWySt"
   },
   "outputs": [],
   "source": [
    "X_train_symm, y_train_symm = symmetrize_x(X_train, y_train)"
   ]
  },
  {
   "cell_type": "code",
   "execution_count": null,
   "metadata": {
    "id": "Uiv8TtFSYOlR"
   },
   "outputs": [],
   "source": [
    "X_train_bg = make_bg(X_train_symm)\n",
    "X_val_bg = make_bg(X_val)"
   ]
  },
  {
   "cell_type": "code",
   "execution_count": null,
   "metadata": {
    "id": "0HW3OpZBW3Cj"
   },
   "outputs": [],
   "source": [
    "from sklearn.decomposition import PCA\n",
    "pca = PCA(n_components=299)\n",
    "X_train_pca = pca.fit_transform(ravelize(X_train_symm))\n",
    "X_val_pca = pca.transform(ravelize(X_val))"
   ]
  },
  {
   "cell_type": "code",
   "execution_count": null,
   "metadata": {
    "colab": {
     "base_uri": "https://localhost:8080/"
    },
    "id": "4WM3m4REXCJc",
    "outputId": "076afe16-2a14-4c21-91fd-0dfc330db054"
   },
   "outputs": [],
   "source": [
    "%%time\n",
    "total_score = 0\n",
    "for feature_number in range(3):\n",
    "  total_score += test_solution(\n",
    "      X_train_pca,\n",
    "      y_train_symm,\n",
    "      X_val_pca,\n",
    "      y_val,\n",
    "      feature_num=feature_number\n",
    "  )\n",
    "  print()\n",
    "total_score /= 3\n",
    "print('='*16)\n",
    "print(f\"Total score = {total_score:.6f}\")"
   ]
  },
  {
   "cell_type": "code",
   "execution_count": null,
   "metadata": {
    "colab": {
     "base_uri": "https://localhost:8080/"
    },
    "id": "Asd7i38QXS4B",
    "outputId": "083af0c3-74d4-4296-8bf6-35cca0ec80de"
   },
   "outputs": [],
   "source": [
    "%%time\n",
    "total_score = 0\n",
    "# something close to the best possible solution\n",
    "for feature_number in range(3):\n",
    "  total_score += test_solution(\n",
    "      np.concatenate([X_train_pca, X_train_bg], axis=-1),\n",
    "      y_train_symm,\n",
    "      np.concatenate([X_val_pca, X_val_bg], axis=-1),\n",
    "      y_val,\n",
    "      feature_num=feature_number\n",
    "  )\n",
    "  print()\n",
    "total_score /= 3\n",
    "print('='*16)\n",
    "print(f\"Total score = {total_score:.6f}\")"
   ]
  }
 ],
 "metadata": {
  "colab": {
   "provenance": []
  },
  "kernelspec": {
   "display_name": "Python 3 (ipykernel)",
   "language": "python",
   "name": "python3"
  },
  "language_info": {
   "codemirror_mode": {
    "name": "ipython",
    "version": 3
   },
   "file_extension": ".py",
   "mimetype": "text/x-python",
   "name": "python",
   "nbconvert_exporter": "python",
   "pygments_lexer": "ipython3",
   "version": "3.12.9"
  }
 },
 "nbformat": 4,
 "nbformat_minor": 4
}
